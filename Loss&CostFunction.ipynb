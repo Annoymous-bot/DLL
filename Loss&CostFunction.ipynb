{
  "nbformat": 4,
  "nbformat_minor": 0,
  "metadata": {
    "colab": {
      "name": "Loss&CostFunction.ipynb",
      "provenance": [],
      "authorship_tag": "ABX9TyPZBgKGecFL3oZXhsnNEbAD",
      "include_colab_link": true
    },
    "kernelspec": {
      "name": "python3",
      "display_name": "Python 3"
    },
    "language_info": {
      "name": "python"
    }
  },
  "cells": [
    {
      "cell_type": "markdown",
      "metadata": {
        "id": "view-in-github",
        "colab_type": "text"
      },
      "source": [
        "<a href=\"https://colab.research.google.com/github/Annoymous-bot/DLL/blob/main/Loss%26CostFunction.ipynb\" target=\"_parent\"><img src=\"https://colab.research.google.com/assets/colab-badge.svg\" alt=\"Open In Colab\"/></a>"
      ]
    },
    {
      "cell_type": "code",
      "execution_count": 1,
      "metadata": {
        "id": "V_MtvkHbAMvz"
      },
      "outputs": [],
      "source": [
        "import numpy as np\n",
        "from math import sqrt"
      ]
    },
    {
      "cell_type": "code",
      "source": [
        "ytrue=[0.70,0,1,0.30,0.5]\n",
        "ypred=[1,0,0,1,1]"
      ],
      "metadata": {
        "id": "hapAs9q9EB4d"
      },
      "execution_count": 2,
      "outputs": []
    },
    {
      "cell_type": "code",
      "source": [
        "ytrue=np.array(ytrue)"
      ],
      "metadata": {
        "id": "KDJvhvf-EFC8"
      },
      "execution_count": 3,
      "outputs": []
    },
    {
      "cell_type": "markdown",
      "source": [
        "**Mean Absolute Error** "
      ],
      "metadata": {
        "id": "1tOCJtprENP8"
      }
    },
    {
      "cell_type": "code",
      "source": [
        "lerr=[]\n",
        "def mean_absolute_error(ytrue,ypred):\n",
        "  err=0\n",
        "  for yt,yp in zip(ytrue,ypred):\n",
        "    err+=abs(yt-yp)\n",
        "    print(err)\n",
        "    lerr.append(err)\n",
        "  print('total erroe',err)\n",
        "  mae=err/len(ytrue)\n",
        "  return mae\n",
        "me=mean_absolute_error(ytrue,ypred)\n",
        "print(\"mean_ansolute_error is\",me)"
      ],
      "metadata": {
        "colab": {
          "base_uri": "https://localhost:8080/"
        },
        "id": "7FyOffZiEImu",
        "outputId": "d4dfcb71-787c-4f6b-b43d-7a42e791c3ca"
      },
      "execution_count": 4,
      "outputs": [
        {
          "output_type": "stream",
          "name": "stdout",
          "text": [
            "0.30000000000000004\n",
            "0.30000000000000004\n",
            "1.3\n",
            "2.0\n",
            "2.5\n",
            "total erroe 2.5\n",
            "mean_ansolute_error is 0.5\n"
          ]
        }
      ]
    },
    {
      "cell_type": "markdown",
      "source": [
        "Mean Absolute Error Through **NP**"
      ],
      "metadata": {
        "id": "MBAcZIcyEeq3"
      }
    },
    {
      "cell_type": "code",
      "source": [
        "MAE=(np.abs(ytrue-ypred)).mean()\n",
        "MAE"
      ],
      "metadata": {
        "colab": {
          "base_uri": "https://localhost:8080/"
        },
        "id": "xwjDO65HEjHN",
        "outputId": "54491a31-c465-4a73-bfc4-42b6bbf6d929"
      },
      "execution_count": 5,
      "outputs": [
        {
          "output_type": "execute_result",
          "data": {
            "text/plain": [
              "0.5"
            ]
          },
          "metadata": {},
          "execution_count": 5
        }
      ]
    },
    {
      "cell_type": "markdown",
      "source": [
        "Mean Root Sqaure Error **bold text**"
      ],
      "metadata": {
        "id": "CXL2RC0oEnrm"
      }
    },
    {
      "cell_type": "code",
      "source": [
        "def mean_root_square_error(ytrue,ypred):\n",
        "  err=0\n",
        "  for yt,yp in zip(ytrue,ypred):\n",
        "    err+=(yt-yp)**2\n",
        "  print(\"square error:\",err)\n",
        "  mrse=(err/len(ytrue))**(1/2)\n",
        "  return mrse\n",
        "ms=mean_root_square_error(ytrue,ypred)\n",
        "print('Mean square error is',ms)"
      ],
      "metadata": {
        "colab": {
          "base_uri": "https://localhost:8080/"
        },
        "id": "WPvnXBMWErJl",
        "outputId": "bf1458f4-d051-4daf-8a2a-5a9a4d646322"
      },
      "execution_count": 6,
      "outputs": [
        {
          "output_type": "stream",
          "name": "stdout",
          "text": [
            "square error: 1.83\n",
            "Mean square error is 0.6049793384901669\n"
          ]
        }
      ]
    },
    {
      "cell_type": "markdown",
      "source": [
        "Mean Sqaure **Error**"
      ],
      "metadata": {
        "id": "moCFR29UEwS2"
      }
    },
    {
      "cell_type": "code",
      "source": [
        "lerr=[]\n",
        "def mean_square_error(ytrue,ypred):\n",
        "  err=0\n",
        "  for yt,yp in zip(ytrue,ypred):\n",
        "    err+=abs(yt-yp)**2\n",
        "    print(err)\n",
        "    lerr.append(err)\n",
        "  print('total erroe',err)\n",
        "  mae=err/len(ytrue)\n",
        "  return mae\n",
        "me=mean_square_error(ytrue,ypred)\n",
        "print(\"mean_ansolute_error is\",me)"
      ],
      "metadata": {
        "colab": {
          "base_uri": "https://localhost:8080/"
        },
        "id": "AEF2xXFnEu7N",
        "outputId": "8888032c-71e9-403a-de7f-9ba0f46bee55"
      },
      "execution_count": 7,
      "outputs": [
        {
          "output_type": "stream",
          "name": "stdout",
          "text": [
            "0.09000000000000002\n",
            "0.09000000000000002\n",
            "1.09\n",
            "1.58\n",
            "1.83\n",
            "total erroe 1.83\n",
            "mean_ansolute_error is 0.366\n"
          ]
        }
      ]
    },
    {
      "cell_type": "markdown",
      "source": [
        "Mean Sqaure Error Through **NP**"
      ],
      "metadata": {
        "id": "oZ1KesaKE2jd"
      }
    },
    {
      "cell_type": "code",
      "source": [
        "MSE=np.square(np.subtract(ytrue,ypred)).mean()\n",
        "MSE"
      ],
      "metadata": {
        "colab": {
          "base_uri": "https://localhost:8080/"
        },
        "id": "wl3U8Wm0E6BV",
        "outputId": "45306f4c-a078-4204-a57f-353dcfbde528"
      },
      "execution_count": 8,
      "outputs": [
        {
          "output_type": "execute_result",
          "data": {
            "text/plain": [
              "0.366"
            ]
          },
          "metadata": {},
          "execution_count": 8
        }
      ]
    },
    {
      "cell_type": "code",
      "source": [
        "l1=[100,200,300]\n",
        "l2=['a','b','c']                                   #for zip purpose\n",
        "z=zip(l1,l2)                                       #only for my reference\n",
        "print(z)"
      ],
      "metadata": {
        "colab": {
          "base_uri": "https://localhost:8080/"
        },
        "id": "yvMzPLphFDom",
        "outputId": "202e6869-f2f6-429a-c569-567b0ae1a2e3"
      },
      "execution_count": 9,
      "outputs": [
        {
          "output_type": "stream",
          "name": "stdout",
          "text": [
            "<zip object at 0x7f2b7a3336e0>\n"
          ]
        }
      ]
    },
    {
      "cell_type": "code",
      "source": [
        "for v in z:\n",
        "  print(v)                                        #only for my reference"
      ],
      "metadata": {
        "colab": {
          "base_uri": "https://localhost:8080/"
        },
        "id": "OFdJ282dFH60",
        "outputId": "3d18f38b-53d7-49e8-fdc8-50d4dde78870"
      },
      "execution_count": 10,
      "outputs": [
        {
          "output_type": "stream",
          "name": "stdout",
          "text": [
            "(100, 'a')\n",
            "(200, 'b')\n",
            "(300, 'c')\n"
          ]
        }
      ]
    },
    {
      "cell_type": "code",
      "source": [
        "np.mean(np.abs(ytrue-ypred))"
      ],
      "metadata": {
        "colab": {
          "base_uri": "https://localhost:8080/"
        },
        "id": "0WAvAppFFMlN",
        "outputId": "4fffde83-944f-4919-8726-d48039c2ee20"
      },
      "execution_count": 11,
      "outputs": [
        {
          "output_type": "execute_result",
          "data": {
            "text/plain": [
              "0.5"
            ]
          },
          "metadata": {},
          "execution_count": 11
        }
      ]
    },
    {
      "cell_type": "code",
      "source": [
        "np.log(0.000000000001)"
      ],
      "metadata": {
        "colab": {
          "base_uri": "https://localhost:8080/"
        },
        "id": "nRuysuDEFOB0",
        "outputId": "3bd54476-60fd-4db7-e906-c81bdc971b48"
      },
      "execution_count": 12,
      "outputs": [
        {
          "output_type": "execute_result",
          "data": {
            "text/plain": [
              "-27.631021115928547"
            ]
          },
          "metadata": {},
          "execution_count": 12
        }
      ]
    },
    {
      "cell_type": "code",
      "source": [
        "ep=1e-15"
      ],
      "metadata": {
        "id": "B3DjvZipFPPc"
      },
      "execution_count": 13,
      "outputs": []
    },
    {
      "cell_type": "code",
      "source": [
        "ypred_new=[max(i,ep) for i in ypred]\n",
        "ypred_new"
      ],
      "metadata": {
        "colab": {
          "base_uri": "https://localhost:8080/"
        },
        "id": "fnF4GtD_FQy8",
        "outputId": "a672dee0-6cc5-4d6a-e620-19ee8c7a8744"
      },
      "execution_count": 14,
      "outputs": [
        {
          "output_type": "execute_result",
          "data": {
            "text/plain": [
              "[1, 1e-15, 1e-15, 1, 1]"
            ]
          },
          "metadata": {},
          "execution_count": 14
        }
      ]
    },
    {
      "cell_type": "code",
      "source": [
        "ypred_new=[min(i,1-ep)for i in ypred_new]\n",
        "ypred_new"
      ],
      "metadata": {
        "colab": {
          "base_uri": "https://localhost:8080/"
        },
        "id": "c1sMcP0-FSMM",
        "outputId": "c6eac7a2-5c9d-4c45-f6e7-ed12dec8c620"
      },
      "execution_count": 15,
      "outputs": [
        {
          "output_type": "execute_result",
          "data": {
            "text/plain": [
              "[0.999999999999999, 1e-15, 1e-15, 0.999999999999999, 0.999999999999999]"
            ]
          },
          "metadata": {},
          "execution_count": 15
        }
      ]
    },
    {
      "cell_type": "code",
      "source": [
        "ypred_new=np.array(ypred_new)\n",
        "ypred_new"
      ],
      "metadata": {
        "colab": {
          "base_uri": "https://localhost:8080/"
        },
        "id": "Rkrw2S3kFT59",
        "outputId": "2b2e2571-e475-40dd-e608-69caa41b32e8"
      },
      "execution_count": 16,
      "outputs": [
        {
          "output_type": "execute_result",
          "data": {
            "text/plain": [
              "array([1.e+00, 1.e-15, 1.e-15, 1.e+00, 1.e+00])"
            ]
          },
          "metadata": {},
          "execution_count": 16
        }
      ]
    },
    {
      "cell_type": "code",
      "source": [
        "np.log(ypred_new)"
      ],
      "metadata": {
        "colab": {
          "base_uri": "https://localhost:8080/"
        },
        "id": "bhC77h35FWbG",
        "outputId": "1086bed3-1e64-4452-edff-2aeb6f993082"
      },
      "execution_count": 17,
      "outputs": [
        {
          "output_type": "execute_result",
          "data": {
            "text/plain": [
              "array([-9.99200722e-16, -3.45387764e+01, -3.45387764e+01, -9.99200722e-16,\n",
              "       -9.99200722e-16])"
            ]
          },
          "metadata": {},
          "execution_count": 17
        }
      ]
    },
    {
      "cell_type": "code",
      "source": [
        "ytrue=np.array(ytrue)"
      ],
      "metadata": {
        "id": "AMPvXVrbFYdd"
      },
      "execution_count": 18,
      "outputs": []
    },
    {
      "cell_type": "code",
      "source": [
        "-np.mean(ytrue * np.log(ypred_new)+(1-ytrue) *(1-np.log(ypred_new)))"
      ],
      "metadata": {
        "colab": {
          "base_uri": "https://localhost:8080/"
        },
        "id": "I64H2pStFaEu",
        "outputId": "fa293c6f-eba3-4ce1-cf97-3ee7c540b999"
      },
      "execution_count": 19,
      "outputs": [
        {
          "output_type": "execute_result",
          "data": {
            "text/plain": [
              "-0.49999999999999944"
            ]
          },
          "metadata": {},
          "execution_count": 19
        }
      ]
    },
    {
      "cell_type": "code",
      "source": [
        "def log_loss(ytrue,ypred):\n",
        "  ep=1e-15\n",
        "  ypred_new=[max(i,ep) for i in ypred]\n",
        "  ypred_new=[min(i,1-ep)for i in ypred_new]\n",
        "  ypred_new=np.array(ypred_new)\n",
        "  return -np.mean(ytrue*np.log(ypred_new)+(1-ytrue)*(1-np.log(ypred_new)))"
      ],
      "metadata": {
        "id": "Wp8hSKxmFbt8"
      },
      "execution_count": 20,
      "outputs": []
    },
    {
      "cell_type": "code",
      "source": [
        "log_loss(ytrue,ypred)"
      ],
      "metadata": {
        "colab": {
          "base_uri": "https://localhost:8080/"
        },
        "id": "oMN1bo_JFdlM",
        "outputId": "08387dac-c9ac-4463-b896-6ed9f95c55ab"
      },
      "execution_count": 21,
      "outputs": [
        {
          "output_type": "execute_result",
          "data": {
            "text/plain": [
              "-0.49999999999999944"
            ]
          },
          "metadata": {},
          "execution_count": 21
        }
      ]
    }
  ]
}